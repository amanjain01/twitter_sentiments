{
 "cells": [
  {
   "cell_type": "code",
   "execution_count": 33,
   "metadata": {},
   "outputs": [],
   "source": [
    "mb = open(\"MB_ALL.txt\",\"r\",encoding = 'utf-8').readlines()\n",
    "tr = open(\"TR_ALL.txt\",\"r\",encoding = 'utf-8').readlines()"
   ]
  },
  {
   "cell_type": "code",
   "execution_count": 15,
   "metadata": {},
   "outputs": [],
   "source": [
    "mb_features = []\n",
    "for line in mb:\n",
    "    mb_features.append(line.split('|'))\n"
   ]
  },
  {
   "cell_type": "code",
   "execution_count": 34,
   "metadata": {},
   "outputs": [],
   "source": [
    "tr_features = []\n",
    "for line in tr:\n",
    "    tr_features.append(line.split('|'))"
   ]
  },
  {
   "cell_type": "code",
   "execution_count": 28,
   "metadata": {},
   "outputs": [
    {
     "name": "stdout",
     "output_type": "stream",
     "text": [
      "689191\n"
     ]
    }
   ],
   "source": [
    "unique_mb_f = []\n",
    "tweet_mb_id = set()\n",
    "tweet_mb_users = set()\n",
    "i = 0\n",
    "for line in mb_features:\n",
    "    if len(line) ==1:\n",
    "        continue\n",
    "    if line[0] not in tweet_mb_id:\n",
    "        unique_mb_f.append(line)\n",
    "        tweet_mb_id.add(line[0])\n",
    "        tweet_mb_users.add(line[4])\n",
    "        i+=1\n",
    "print(i)"
   ]
  },
  {
   "cell_type": "code",
   "execution_count": 32,
   "metadata": {},
   "outputs": [],
   "source": [
    "mb_users_file = open('mb_users.txt', 'w')\n",
    "for item in tweet_mb_users:\n",
    "    mb_users_file.write(\"%s\\n\" % item)"
   ]
  },
  {
   "cell_type": "code",
   "execution_count": 35,
   "metadata": {},
   "outputs": [
    {
     "name": "stdout",
     "output_type": "stream",
     "text": [
      "72304\n"
     ]
    }
   ],
   "source": [
    "unique_tr_f = []\n",
    "tweet_tr_id = set()\n",
    "tweet_tr_users = set()\n",
    "i = 0\n",
    "for line in tr_features:\n",
    "    if len(line) ==1:\n",
    "        continue\n",
    "    if line[0] not in tweet_tr_id:\n",
    "        unique_tr_f.append(line)\n",
    "        tweet_tr_id.add(line[0])\n",
    "        tweet_tr_users.add(line[4])\n",
    "        i+=1\n",
    "print(i)"
   ]
  },
  {
   "cell_type": "code",
   "execution_count": 40,
   "metadata": {},
   "outputs": [],
   "source": [
    "tr_users_file = open('tr_users1.txt', 'w',encoding = 'utf-8')\n",
    "for item in tweet_tr_users:\n",
    "    tr_users_file.write(\"%s\\n\" % item)"
   ]
  },
  {
   "cell_type": "code",
   "execution_count": 21,
   "metadata": {},
   "outputs": [
    {
     "data": {
      "text/plain": [
       "'KUHU45'"
      ]
     },
     "execution_count": 21,
     "metadata": {},
     "output_type": "execute_result"
    }
   ],
   "source": [
    "mb_features[0][4]"
   ]
  },
  {
   "cell_type": "code",
   "execution_count": null,
   "metadata": {},
   "outputs": [],
   "source": []
  }
 ],
 "metadata": {
  "kernelspec": {
   "display_name": "Python 3",
   "language": "python",
   "name": "python3"
  },
  "language_info": {
   "codemirror_mode": {
    "name": "ipython",
    "version": 3
   },
   "file_extension": ".py",
   "mimetype": "text/x-python",
   "name": "python",
   "nbconvert_exporter": "python",
   "pygments_lexer": "ipython3",
   "version": "3.6.3"
  }
 },
 "nbformat": 4,
 "nbformat_minor": 2
}
